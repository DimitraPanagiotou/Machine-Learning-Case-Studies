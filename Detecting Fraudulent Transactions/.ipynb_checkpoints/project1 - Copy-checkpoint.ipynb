{
 "cells": [
  {
   "cell_type": "code",
   "execution_count": 2,
   "metadata": {
    "ExecuteTime": {
     "end_time": "2021-10-29T11:02:05.398679Z",
     "start_time": "2021-10-29T11:02:05.388704Z"
    }
   },
   "outputs": [],
   "source": [
    "#pip install pyreadr"
   ]
  },
  {
   "cell_type": "code",
   "execution_count": 3,
   "metadata": {
    "ExecuteTime": {
     "end_time": "2021-10-29T11:02:09.113638Z",
     "start_time": "2021-10-29T11:02:05.401670Z"
    }
   },
   "outputs": [],
   "source": [
    "import matplotlib.pyplot as plt\n",
    "import numpy as np\n",
    "from sklearn.neighbors import LocalOutlierFactor\n",
    "from sklearn.model_selection import train_test_split"
   ]
  },
  {
   "cell_type": "code",
   "execution_count": 4,
   "metadata": {
    "ExecuteTime": {
     "end_time": "2021-10-29T11:03:43.951037Z",
     "start_time": "2021-10-29T11:02:09.115634Z"
    }
   },
   "outputs": [
    {
     "data": {
      "text/plain": [
       "OrderedDict([('sales',\n",
       "                         ID   Prod  Quant      Val  Insp\n",
       "              0          v1     p1    182   1665.0  unkn\n",
       "              1          v2     p1   3072   8780.0  unkn\n",
       "              2          v3     p1  20393  76990.0  unkn\n",
       "              3          v4     p1    112   1100.0  unkn\n",
       "              4          v3     p1   6164  20260.0  unkn\n",
       "              ...       ...    ...    ...      ...   ...\n",
       "              401141  v5918  p4126    113   9330.0  unkn\n",
       "              401142  v2540  p4126    118   3355.0  unkn\n",
       "              401143  v5896  p4127    143   1835.0  unkn\n",
       "              401144  v1796  p4127    102   1445.0  unkn\n",
       "              401145  v2540  p4127    106   1275.0  unkn\n",
       "              \n",
       "              [401146 rows x 5 columns])])"
      ]
     },
     "execution_count": 4,
     "metadata": {},
     "output_type": "execute_result"
    }
   ],
   "source": [
    "import pandas as pd\n",
    "import pyreadr\n",
    "\n",
    "robj = pyreadr.read_r('sales.RData') # also works for Rds\n",
    "robj"
   ]
  },
  {
   "cell_type": "code",
   "execution_count": 5,
   "metadata": {
    "ExecuteTime": {
     "end_time": "2021-10-29T11:03:44.012872Z",
     "start_time": "2021-10-29T11:03:43.956024Z"
    },
    "scrolled": true
   },
   "outputs": [
    {
     "data": {
      "text/html": [
       "<div>\n",
       "<style scoped>\n",
       "    .dataframe tbody tr th:only-of-type {\n",
       "        vertical-align: middle;\n",
       "    }\n",
       "\n",
       "    .dataframe tbody tr th {\n",
       "        vertical-align: top;\n",
       "    }\n",
       "\n",
       "    .dataframe thead th {\n",
       "        text-align: right;\n",
       "    }\n",
       "</style>\n",
       "<table border=\"1\" class=\"dataframe\">\n",
       "  <thead>\n",
       "    <tr style=\"text-align: right;\">\n",
       "      <th></th>\n",
       "      <th>ID</th>\n",
       "      <th>Prod</th>\n",
       "      <th>Quant</th>\n",
       "      <th>Val</th>\n",
       "      <th>Insp</th>\n",
       "    </tr>\n",
       "  </thead>\n",
       "  <tbody>\n",
       "    <tr>\n",
       "      <th>0</th>\n",
       "      <td>v1</td>\n",
       "      <td>p1</td>\n",
       "      <td>182</td>\n",
       "      <td>1665.0</td>\n",
       "      <td>unkn</td>\n",
       "    </tr>\n",
       "    <tr>\n",
       "      <th>1</th>\n",
       "      <td>v2</td>\n",
       "      <td>p1</td>\n",
       "      <td>3072</td>\n",
       "      <td>8780.0</td>\n",
       "      <td>unkn</td>\n",
       "    </tr>\n",
       "    <tr>\n",
       "      <th>2</th>\n",
       "      <td>v3</td>\n",
       "      <td>p1</td>\n",
       "      <td>20393</td>\n",
       "      <td>76990.0</td>\n",
       "      <td>unkn</td>\n",
       "    </tr>\n",
       "    <tr>\n",
       "      <th>3</th>\n",
       "      <td>v4</td>\n",
       "      <td>p1</td>\n",
       "      <td>112</td>\n",
       "      <td>1100.0</td>\n",
       "      <td>unkn</td>\n",
       "    </tr>\n",
       "    <tr>\n",
       "      <th>4</th>\n",
       "      <td>v3</td>\n",
       "      <td>p1</td>\n",
       "      <td>6164</td>\n",
       "      <td>20260.0</td>\n",
       "      <td>unkn</td>\n",
       "    </tr>\n",
       "    <tr>\n",
       "      <th>5</th>\n",
       "      <td>v5</td>\n",
       "      <td>p2</td>\n",
       "      <td>104</td>\n",
       "      <td>1155.0</td>\n",
       "      <td>unkn</td>\n",
       "    </tr>\n",
       "    <tr>\n",
       "      <th>6</th>\n",
       "      <td>v6</td>\n",
       "      <td>p2</td>\n",
       "      <td>350</td>\n",
       "      <td>5680.0</td>\n",
       "      <td>unkn</td>\n",
       "    </tr>\n",
       "    <tr>\n",
       "      <th>7</th>\n",
       "      <td>v7</td>\n",
       "      <td>p2</td>\n",
       "      <td>200</td>\n",
       "      <td>4010.0</td>\n",
       "      <td>unkn</td>\n",
       "    </tr>\n",
       "    <tr>\n",
       "      <th>8</th>\n",
       "      <td>v8</td>\n",
       "      <td>p2</td>\n",
       "      <td>233</td>\n",
       "      <td>2855.0</td>\n",
       "      <td>unkn</td>\n",
       "    </tr>\n",
       "    <tr>\n",
       "      <th>9</th>\n",
       "      <td>v9</td>\n",
       "      <td>p2</td>\n",
       "      <td>118</td>\n",
       "      <td>1175.0</td>\n",
       "      <td>unkn</td>\n",
       "    </tr>\n",
       "    <tr>\n",
       "      <th>10</th>\n",
       "      <td>v10</td>\n",
       "      <td>p2</td>\n",
       "      <td>233</td>\n",
       "      <td>1845.0</td>\n",
       "      <td>unkn</td>\n",
       "    </tr>\n",
       "    <tr>\n",
       "      <th>11</th>\n",
       "      <td>v12</td>\n",
       "      <td>p3</td>\n",
       "      <td>108</td>\n",
       "      <td>1055.0</td>\n",
       "      <td>unkn</td>\n",
       "    </tr>\n",
       "    <tr>\n",
       "      <th>12</th>\n",
       "      <td>v13</td>\n",
       "      <td>p3</td>\n",
       "      <td>1775</td>\n",
       "      <td>9285.0</td>\n",
       "      <td>unkn</td>\n",
       "    </tr>\n",
       "    <tr>\n",
       "      <th>13</th>\n",
       "      <td>v14</td>\n",
       "      <td>p3</td>\n",
       "      <td>304</td>\n",
       "      <td>28300.0</td>\n",
       "      <td>unkn</td>\n",
       "    </tr>\n",
       "    <tr>\n",
       "      <th>14</th>\n",
       "      <td>v13</td>\n",
       "      <td>p3</td>\n",
       "      <td>5211</td>\n",
       "      <td>27900.0</td>\n",
       "      <td>unkn</td>\n",
       "    </tr>\n",
       "    <tr>\n",
       "      <th>15</th>\n",
       "      <td>v13</td>\n",
       "      <td>p4</td>\n",
       "      <td>9452</td>\n",
       "      <td>35540.0</td>\n",
       "      <td>unkn</td>\n",
       "    </tr>\n",
       "    <tr>\n",
       "      <th>16</th>\n",
       "      <td>v15</td>\n",
       "      <td>p4</td>\n",
       "      <td>147</td>\n",
       "      <td>1555.0</td>\n",
       "      <td>unkn</td>\n",
       "    </tr>\n",
       "    <tr>\n",
       "      <th>17</th>\n",
       "      <td>v6</td>\n",
       "      <td>p4</td>\n",
       "      <td>366</td>\n",
       "      <td>6300.0</td>\n",
       "      <td>unkn</td>\n",
       "    </tr>\n",
       "    <tr>\n",
       "      <th>18</th>\n",
       "      <td>v13</td>\n",
       "      <td>p4</td>\n",
       "      <td>1836</td>\n",
       "      <td>12205.0</td>\n",
       "      <td>unkn</td>\n",
       "    </tr>\n",
       "    <tr>\n",
       "      <th>19</th>\n",
       "      <td>v16</td>\n",
       "      <td>p4</td>\n",
       "      <td>1233</td>\n",
       "      <td>6735.0</td>\n",
       "      <td>unkn</td>\n",
       "    </tr>\n",
       "    <tr>\n",
       "      <th>20</th>\n",
       "      <td>v17</td>\n",
       "      <td>p4</td>\n",
       "      <td>2469</td>\n",
       "      <td>17855.0</td>\n",
       "      <td>unkn</td>\n",
       "    </tr>\n",
       "    <tr>\n",
       "      <th>21</th>\n",
       "      <td>v18</td>\n",
       "      <td>p4</td>\n",
       "      <td>5332</td>\n",
       "      <td>53695.0</td>\n",
       "      <td>unkn</td>\n",
       "    </tr>\n",
       "    <tr>\n",
       "      <th>22</th>\n",
       "      <td>v20</td>\n",
       "      <td>p5</td>\n",
       "      <td>6170</td>\n",
       "      <td>153730.0</td>\n",
       "      <td>unkn</td>\n",
       "    </tr>\n",
       "    <tr>\n",
       "      <th>23</th>\n",
       "      <td>v20</td>\n",
       "      <td>p5</td>\n",
       "      <td>180</td>\n",
       "      <td>3175.0</td>\n",
       "      <td>unkn</td>\n",
       "    </tr>\n",
       "    <tr>\n",
       "      <th>24</th>\n",
       "      <td>v21</td>\n",
       "      <td>p5</td>\n",
       "      <td>985</td>\n",
       "      <td>6595.0</td>\n",
       "      <td>unkn</td>\n",
       "    </tr>\n",
       "    <tr>\n",
       "      <th>25</th>\n",
       "      <td>v22</td>\n",
       "      <td>p5</td>\n",
       "      <td>120</td>\n",
       "      <td>1060.0</td>\n",
       "      <td>unkn</td>\n",
       "    </tr>\n",
       "    <tr>\n",
       "      <th>26</th>\n",
       "      <td>v20</td>\n",
       "      <td>p5</td>\n",
       "      <td>361</td>\n",
       "      <td>7950.0</td>\n",
       "      <td>unkn</td>\n",
       "    </tr>\n",
       "    <tr>\n",
       "      <th>27</th>\n",
       "      <td>v23</td>\n",
       "      <td>p5</td>\n",
       "      <td>667</td>\n",
       "      <td>11355.0</td>\n",
       "      <td>unkn</td>\n",
       "    </tr>\n",
       "    <tr>\n",
       "      <th>28</th>\n",
       "      <td>v24</td>\n",
       "      <td>p5</td>\n",
       "      <td>933</td>\n",
       "      <td>1060.0</td>\n",
       "      <td>unkn</td>\n",
       "    </tr>\n",
       "    <tr>\n",
       "      <th>29</th>\n",
       "      <td>v25</td>\n",
       "      <td>p5</td>\n",
       "      <td>11203</td>\n",
       "      <td>54465.0</td>\n",
       "      <td>unkn</td>\n",
       "    </tr>\n",
       "    <tr>\n",
       "      <th>30</th>\n",
       "      <td>v26</td>\n",
       "      <td>p5</td>\n",
       "      <td>7411</td>\n",
       "      <td>45585.0</td>\n",
       "      <td>unkn</td>\n",
       "    </tr>\n",
       "    <tr>\n",
       "      <th>31</th>\n",
       "      <td>v16</td>\n",
       "      <td>p5</td>\n",
       "      <td>927</td>\n",
       "      <td>3940.0</td>\n",
       "      <td>unkn</td>\n",
       "    </tr>\n",
       "    <tr>\n",
       "      <th>32</th>\n",
       "      <td>v27</td>\n",
       "      <td>p5</td>\n",
       "      <td>100</td>\n",
       "      <td>1015.0</td>\n",
       "      <td>unkn</td>\n",
       "    </tr>\n",
       "    <tr>\n",
       "      <th>33</th>\n",
       "      <td>v20</td>\n",
       "      <td>p5</td>\n",
       "      <td>2963</td>\n",
       "      <td>77205.0</td>\n",
       "      <td>unkn</td>\n",
       "    </tr>\n",
       "    <tr>\n",
       "      <th>34</th>\n",
       "      <td>v28</td>\n",
       "      <td>p5</td>\n",
       "      <td>288</td>\n",
       "      <td>4095.0</td>\n",
       "      <td>unkn</td>\n",
       "    </tr>\n",
       "    <tr>\n",
       "      <th>35</th>\n",
       "      <td>v29</td>\n",
       "      <td>p6</td>\n",
       "      <td>100</td>\n",
       "      <td>1030.0</td>\n",
       "      <td>unkn</td>\n",
       "    </tr>\n",
       "    <tr>\n",
       "      <th>36</th>\n",
       "      <td>v30</td>\n",
       "      <td>p7</td>\n",
       "      <td>37877</td>\n",
       "      <td>192930.0</td>\n",
       "      <td>unkn</td>\n",
       "    </tr>\n",
       "    <tr>\n",
       "      <th>37</th>\n",
       "      <td>v30</td>\n",
       "      <td>p7</td>\n",
       "      <td>40100</td>\n",
       "      <td>206350.0</td>\n",
       "      <td>unkn</td>\n",
       "    </tr>\n",
       "    <tr>\n",
       "      <th>38</th>\n",
       "      <td>v31</td>\n",
       "      <td>p8</td>\n",
       "      <td>2705</td>\n",
       "      <td>10385.0</td>\n",
       "      <td>unkn</td>\n",
       "    </tr>\n",
       "    <tr>\n",
       "      <th>39</th>\n",
       "      <td>v33</td>\n",
       "      <td>p9</td>\n",
       "      <td>36595</td>\n",
       "      <td>96765.0</td>\n",
       "      <td>unkn</td>\n",
       "    </tr>\n",
       "    <tr>\n",
       "      <th>40</th>\n",
       "      <td>v34</td>\n",
       "      <td>p9</td>\n",
       "      <td>53704</td>\n",
       "      <td>109670.0</td>\n",
       "      <td>unkn</td>\n",
       "    </tr>\n",
       "    <tr>\n",
       "      <th>41</th>\n",
       "      <td>v35</td>\n",
       "      <td>p9</td>\n",
       "      <td>145976</td>\n",
       "      <td>284315.0</td>\n",
       "      <td>unkn</td>\n",
       "    </tr>\n",
       "    <tr>\n",
       "      <th>42</th>\n",
       "      <td>v36</td>\n",
       "      <td>p9</td>\n",
       "      <td>345672</td>\n",
       "      <td>642025.0</td>\n",
       "      <td>unkn</td>\n",
       "    </tr>\n",
       "    <tr>\n",
       "      <th>43</th>\n",
       "      <td>v38</td>\n",
       "      <td>p10</td>\n",
       "      <td>117</td>\n",
       "      <td>9535.0</td>\n",
       "      <td>unkn</td>\n",
       "    </tr>\n",
       "    <tr>\n",
       "      <th>44</th>\n",
       "      <td>v39</td>\n",
       "      <td>p10</td>\n",
       "      <td>103</td>\n",
       "      <td>2605.0</td>\n",
       "      <td>unkn</td>\n",
       "    </tr>\n",
       "    <tr>\n",
       "      <th>45</th>\n",
       "      <td>v38</td>\n",
       "      <td>p10</td>\n",
       "      <td>104</td>\n",
       "      <td>6935.0</td>\n",
       "      <td>unkn</td>\n",
       "    </tr>\n",
       "    <tr>\n",
       "      <th>46</th>\n",
       "      <td>v40</td>\n",
       "      <td>p10</td>\n",
       "      <td>15781</td>\n",
       "      <td>101045.0</td>\n",
       "      <td>unkn</td>\n",
       "    </tr>\n",
       "    <tr>\n",
       "      <th>47</th>\n",
       "      <td>v41</td>\n",
       "      <td>p10</td>\n",
       "      <td>9166</td>\n",
       "      <td>13765.0</td>\n",
       "      <td>unkn</td>\n",
       "    </tr>\n",
       "    <tr>\n",
       "      <th>48</th>\n",
       "      <td>v42</td>\n",
       "      <td>p11</td>\n",
       "      <td>51097</td>\n",
       "      <td>310780.0</td>\n",
       "      <td>ok</td>\n",
       "    </tr>\n",
       "    <tr>\n",
       "      <th>49</th>\n",
       "      <td>v43</td>\n",
       "      <td>p11</td>\n",
       "      <td>1032</td>\n",
       "      <td>4115.0</td>\n",
       "      <td>unkn</td>\n",
       "    </tr>\n",
       "  </tbody>\n",
       "</table>\n",
       "</div>"
      ],
      "text/plain": [
       "     ID Prod   Quant       Val  Insp\n",
       "0    v1   p1     182    1665.0  unkn\n",
       "1    v2   p1    3072    8780.0  unkn\n",
       "2    v3   p1   20393   76990.0  unkn\n",
       "3    v4   p1     112    1100.0  unkn\n",
       "4    v3   p1    6164   20260.0  unkn\n",
       "5    v5   p2     104    1155.0  unkn\n",
       "6    v6   p2     350    5680.0  unkn\n",
       "7    v7   p2     200    4010.0  unkn\n",
       "8    v8   p2     233    2855.0  unkn\n",
       "9    v9   p2     118    1175.0  unkn\n",
       "10  v10   p2     233    1845.0  unkn\n",
       "11  v12   p3     108    1055.0  unkn\n",
       "12  v13   p3    1775    9285.0  unkn\n",
       "13  v14   p3     304   28300.0  unkn\n",
       "14  v13   p3    5211   27900.0  unkn\n",
       "15  v13   p4    9452   35540.0  unkn\n",
       "16  v15   p4     147    1555.0  unkn\n",
       "17   v6   p4     366    6300.0  unkn\n",
       "18  v13   p4    1836   12205.0  unkn\n",
       "19  v16   p4    1233    6735.0  unkn\n",
       "20  v17   p4    2469   17855.0  unkn\n",
       "21  v18   p4    5332   53695.0  unkn\n",
       "22  v20   p5    6170  153730.0  unkn\n",
       "23  v20   p5     180    3175.0  unkn\n",
       "24  v21   p5     985    6595.0  unkn\n",
       "25  v22   p5     120    1060.0  unkn\n",
       "26  v20   p5     361    7950.0  unkn\n",
       "27  v23   p5     667   11355.0  unkn\n",
       "28  v24   p5     933    1060.0  unkn\n",
       "29  v25   p5   11203   54465.0  unkn\n",
       "30  v26   p5    7411   45585.0  unkn\n",
       "31  v16   p5     927    3940.0  unkn\n",
       "32  v27   p5     100    1015.0  unkn\n",
       "33  v20   p5    2963   77205.0  unkn\n",
       "34  v28   p5     288    4095.0  unkn\n",
       "35  v29   p6     100    1030.0  unkn\n",
       "36  v30   p7   37877  192930.0  unkn\n",
       "37  v30   p7   40100  206350.0  unkn\n",
       "38  v31   p8    2705   10385.0  unkn\n",
       "39  v33   p9   36595   96765.0  unkn\n",
       "40  v34   p9   53704  109670.0  unkn\n",
       "41  v35   p9  145976  284315.0  unkn\n",
       "42  v36   p9  345672  642025.0  unkn\n",
       "43  v38  p10     117    9535.0  unkn\n",
       "44  v39  p10     103    2605.0  unkn\n",
       "45  v38  p10     104    6935.0  unkn\n",
       "46  v40  p10   15781  101045.0  unkn\n",
       "47  v41  p10    9166   13765.0  unkn\n",
       "48  v42  p11   51097  310780.0    ok\n",
       "49  v43  p11    1032    4115.0  unkn"
      ]
     },
     "execution_count": 5,
     "metadata": {},
     "output_type": "execute_result"
    }
   ],
   "source": [
    "sales = robj['sales']\n",
    "sales.head(50)\n"
   ]
  },
  {
   "cell_type": "code",
   "execution_count": 6,
   "metadata": {
    "ExecuteTime": {
     "end_time": "2021-10-29T11:03:44.166461Z",
     "start_time": "2021-10-29T11:03:44.014867Z"
    }
   },
   "outputs": [
    {
     "data": {
      "text/html": [
       "<div>\n",
       "<style scoped>\n",
       "    .dataframe tbody tr th:only-of-type {\n",
       "        vertical-align: middle;\n",
       "    }\n",
       "\n",
       "    .dataframe tbody tr th {\n",
       "        vertical-align: top;\n",
       "    }\n",
       "\n",
       "    .dataframe thead th {\n",
       "        text-align: right;\n",
       "    }\n",
       "</style>\n",
       "<table border=\"1\" class=\"dataframe\">\n",
       "  <thead>\n",
       "    <tr style=\"text-align: right;\">\n",
       "      <th></th>\n",
       "      <th>ID</th>\n",
       "      <th>Prod</th>\n",
       "      <th>Quant</th>\n",
       "      <th>Val</th>\n",
       "      <th>Insp</th>\n",
       "    </tr>\n",
       "  </thead>\n",
       "  <tbody>\n",
       "    <tr>\n",
       "      <th>count</th>\n",
       "      <td>401146</td>\n",
       "      <td>401146</td>\n",
       "      <td>387304.0</td>\n",
       "      <td>3.999640e+05</td>\n",
       "      <td>401146</td>\n",
       "    </tr>\n",
       "    <tr>\n",
       "      <th>unique</th>\n",
       "      <td>6016</td>\n",
       "      <td>4548</td>\n",
       "      <td>20956.0</td>\n",
       "      <td>NaN</td>\n",
       "      <td>3</td>\n",
       "    </tr>\n",
       "    <tr>\n",
       "      <th>top</th>\n",
       "      <td>v431</td>\n",
       "      <td>p1125</td>\n",
       "      <td>101.0</td>\n",
       "      <td>NaN</td>\n",
       "      <td>unkn</td>\n",
       "    </tr>\n",
       "    <tr>\n",
       "      <th>freq</th>\n",
       "      <td>10159</td>\n",
       "      <td>3923</td>\n",
       "      <td>24159.0</td>\n",
       "      <td>NaN</td>\n",
       "      <td>385414</td>\n",
       "    </tr>\n",
       "    <tr>\n",
       "      <th>mean</th>\n",
       "      <td>NaN</td>\n",
       "      <td>NaN</td>\n",
       "      <td>NaN</td>\n",
       "      <td>1.461707e+04</td>\n",
       "      <td>NaN</td>\n",
       "    </tr>\n",
       "    <tr>\n",
       "      <th>std</th>\n",
       "      <td>NaN</td>\n",
       "      <td>NaN</td>\n",
       "      <td>NaN</td>\n",
       "      <td>6.971259e+04</td>\n",
       "      <td>NaN</td>\n",
       "    </tr>\n",
       "    <tr>\n",
       "      <th>min</th>\n",
       "      <td>NaN</td>\n",
       "      <td>NaN</td>\n",
       "      <td>NaN</td>\n",
       "      <td>1.005000e+03</td>\n",
       "      <td>NaN</td>\n",
       "    </tr>\n",
       "    <tr>\n",
       "      <th>25%</th>\n",
       "      <td>NaN</td>\n",
       "      <td>NaN</td>\n",
       "      <td>NaN</td>\n",
       "      <td>1.345000e+03</td>\n",
       "      <td>NaN</td>\n",
       "    </tr>\n",
       "    <tr>\n",
       "      <th>50%</th>\n",
       "      <td>NaN</td>\n",
       "      <td>NaN</td>\n",
       "      <td>NaN</td>\n",
       "      <td>2.675000e+03</td>\n",
       "      <td>NaN</td>\n",
       "    </tr>\n",
       "    <tr>\n",
       "      <th>75%</th>\n",
       "      <td>NaN</td>\n",
       "      <td>NaN</td>\n",
       "      <td>NaN</td>\n",
       "      <td>8.680000e+03</td>\n",
       "      <td>NaN</td>\n",
       "    </tr>\n",
       "    <tr>\n",
       "      <th>max</th>\n",
       "      <td>NaN</td>\n",
       "      <td>NaN</td>\n",
       "      <td>NaN</td>\n",
       "      <td>4.642955e+06</td>\n",
       "      <td>NaN</td>\n",
       "    </tr>\n",
       "  </tbody>\n",
       "</table>\n",
       "</div>"
      ],
      "text/plain": [
       "            ID    Prod     Quant           Val    Insp\n",
       "count   401146  401146  387304.0  3.999640e+05  401146\n",
       "unique    6016    4548   20956.0           NaN       3\n",
       "top       v431   p1125     101.0           NaN    unkn\n",
       "freq     10159    3923   24159.0           NaN  385414\n",
       "mean       NaN     NaN       NaN  1.461707e+04     NaN\n",
       "std        NaN     NaN       NaN  6.971259e+04     NaN\n",
       "min        NaN     NaN       NaN  1.005000e+03     NaN\n",
       "25%        NaN     NaN       NaN  1.345000e+03     NaN\n",
       "50%        NaN     NaN       NaN  2.675000e+03     NaN\n",
       "75%        NaN     NaN       NaN  8.680000e+03     NaN\n",
       "max        NaN     NaN       NaN  4.642955e+06     NaN"
      ]
     },
     "execution_count": 6,
     "metadata": {},
     "output_type": "execute_result"
    }
   ],
   "source": [
    "sales.describe(include = 'all')"
   ]
  },
  {
   "cell_type": "code",
   "execution_count": 7,
   "metadata": {
    "ExecuteTime": {
     "end_time": "2021-10-29T11:03:44.197379Z",
     "start_time": "2021-10-29T11:03:44.169453Z"
    }
   },
   "outputs": [
    {
     "name": "stdout",
     "output_type": "stream",
     "text": [
      "Insp\n",
      "fraud      1270\n",
      "ok        14462\n",
      "unkn     385414\n",
      "dtype: int64\n"
     ]
    }
   ],
   "source": [
    "# 'Insp' class distribution\n",
    "print(sales.groupby('Insp').size())"
   ]
  },
  {
   "cell_type": "code",
   "execution_count": 8,
   "metadata": {
    "ExecuteTime": {
     "end_time": "2021-10-29T11:03:44.228295Z",
     "start_time": "2021-10-29T11:03:44.199373Z"
    }
   },
   "outputs": [
    {
     "name": "stdout",
     "output_type": "stream",
     "text": [
      "ID\n",
      "v1        96\n",
      "v10      683\n",
      "v100      17\n",
      "v1000     62\n",
      "v1001     27\n",
      "        ... \n",
      "v995      78\n",
      "v996      11\n",
      "v997      72\n",
      "v998     123\n",
      "v999     125\n",
      "Length: 6016, dtype: int64\n"
     ]
    }
   ],
   "source": [
    "# 'ID' class distribution\n",
    "print(sales.groupby('ID').size())"
   ]
  },
  {
   "cell_type": "code",
   "execution_count": 9,
   "metadata": {
    "ExecuteTime": {
     "end_time": "2021-10-29T11:03:44.259215Z",
     "start_time": "2021-10-29T11:03:44.232286Z"
    }
   },
   "outputs": [
    {
     "name": "stdout",
     "output_type": "stream",
     "text": [
      "Prod\n",
      "p1       210\n",
      "p10       38\n",
      "p100     165\n",
      "p1000    900\n",
      "p1001    532\n",
      "        ... \n",
      "p995      77\n",
      "p996     123\n",
      "p997      34\n",
      "p998     241\n",
      "p999      73\n",
      "Length: 4548, dtype: int64\n"
     ]
    }
   ],
   "source": [
    "# 'Prod' class distribution\n",
    "print(sales.groupby('Prod').size())"
   ]
  },
  {
   "cell_type": "markdown",
   "metadata": {},
   "source": [
    "Our dataset has a significant number of salespeople(6016) and products(4548)"
   ]
  },
  {
   "cell_type": "code",
   "execution_count": 10,
   "metadata": {
    "ExecuteTime": {
     "end_time": "2021-10-29T11:03:44.290132Z",
     "start_time": "2021-10-29T11:03:44.263203Z"
    }
   },
   "outputs": [
    {
     "data": {
      "text/plain": [
       "888"
      ]
     },
     "execution_count": 10,
     "metadata": {},
     "output_type": "execute_result"
    }
   ],
   "source": [
    "#checking for missing values in Products and Value columns\n",
    "(sales['Quant'].isnull() & sales['Val'].isnull()).sum()"
   ]
  },
  {
   "cell_type": "markdown",
   "metadata": {},
   "source": [
    "There is a considerable number of unknown values in the columns Quant and Val, especially if both appears at the same time. This would represent a transaction report without the crucial information."
   ]
  },
  {
   "cell_type": "code",
   "execution_count": 11,
   "metadata": {
    "ExecuteTime": {
     "end_time": "2021-10-29T11:03:44.338005Z",
     "start_time": "2021-10-29T11:03:44.293122Z"
    }
   },
   "outputs": [
    {
     "name": "stdout",
     "output_type": "stream",
     "text": [
      "Unkwn:  96.0782358542775\n",
      "Ok:  3.605171184556246\n",
      "Fraud:  0.3165929611662587\n"
     ]
    }
   ],
   "source": [
    "print('Unkwn: ',sales['Insp'].value_counts()[0]/len(sales)*100)\n",
    "print('Ok: ',sales['Insp'].value_counts()[1]/len(sales)*100)\n",
    "print('Fraud: ',sales['Insp'].value_counts()[2]/len(sales)*100)"
   ]
  },
  {
   "cell_type": "markdown",
   "metadata": {},
   "source": [
    "We check the distribution of the values in the inspection column.As you can confirm the proportion of frauds is relatively low, even if we only take into\n",
    "account the reports that were inspected, which are also a small proportion\n",
    "overall."
   ]
  },
  {
   "cell_type": "code",
   "execution_count": 12,
   "metadata": {
    "ExecuteTime": {
     "end_time": "2021-10-29T11:03:45.080036Z",
     "start_time": "2021-10-29T11:03:44.339998Z"
    }
   },
   "outputs": [
    {
     "data": {
      "text/plain": [
       "<AxesSubplot:>"
      ]
     },
     "execution_count": 12,
     "metadata": {},
     "output_type": "execute_result"
    },
    {
     "data": {
      "image/png": "[encoded data removed]",
      "text/plain": [
       "<Figure size 432x288 with 1 Axes>"
      ]
     },
     "metadata": {
      "needs_background": "light"
     },
     "output_type": "display_data"
    }
   ],
   "source": [
    "# Create bars\n",
    "sales['ID'].value_counts().plot(kind='box')"
   ]
  },
  {
   "cell_type": "code",
   "execution_count": 13,
   "metadata": {
    "ExecuteTime": {
     "end_time": "2021-10-29T11:03:45.248586Z",
     "start_time": "2021-10-29T11:03:45.082030Z"
    }
   },
   "outputs": [
    {
     "data": {
      "text/plain": [
       "<AxesSubplot:>"
      ]
     },
     "execution_count": 13,
     "metadata": {},
     "output_type": "execute_result"
    },
    {
     "data": {
      "image/png": "[encoded data removed]",
      "text/plain": [
       "<Figure size 432x288 with 1 Axes>"
      ]
     },
     "metadata": {
      "needs_background": "light"
     },
     "output_type": "display_data"
    }
   ],
   "source": [
    "# Create bars\n",
    "sales['Prod'].value_counts().plot(kind='box')"
   ]
  },
  {
   "cell_type": "code",
   "execution_count": 14,
   "metadata": {
    "ExecuteTime": {
     "end_time": "2021-10-29T11:03:45.279502Z",
     "start_time": "2021-10-29T11:03:45.250580Z"
    }
   },
   "outputs": [
    {
     "name": "stdout",
     "output_type": "stream",
     "text": [
      "Prod\n",
      "p1125    3923\n",
      "p3774    1824\n",
      "p1437    1720\n",
      "p1917    1702\n",
      "p4089    1598\n",
      "         ... \n",
      "p4479      11\n",
      "p750       11\n",
      "p4483      11\n",
      "p2992      11\n",
      "p2973      11\n",
      "Length: 4548, dtype: int64\n"
     ]
    }
   ],
   "source": [
    "# 'Prod' class distribution\n",
    "print(sales.groupby('Prod').size().sort_values(ascending=False))"
   ]
  },
  {
   "cell_type": "markdown",
   "metadata": {},
   "source": [
    "## Create Dataset"
   ]
  },
  {
   "cell_type": "code",
   "execution_count": 15,
   "metadata": {
    "ExecuteTime": {
     "end_time": "2021-10-29T11:03:45.295482Z",
     "start_time": "2021-10-29T11:03:45.282494Z"
    }
   },
   "outputs": [],
   "source": [
    "sales_df = sales.copy(deep=True)"
   ]
  },
  {
   "cell_type": "code",
   "execution_count": 16,
   "metadata": {
    "ExecuteTime": {
     "end_time": "2021-10-29T11:04:22.951943Z",
     "start_time": "2021-10-29T11:03:45.299450Z"
    }
   },
   "outputs": [
    {
     "data": {
      "text/html": [
       "<div>\n",
       "<style scoped>\n",
       "    .dataframe tbody tr th:only-of-type {\n",
       "        vertical-align: middle;\n",
       "    }\n",
       "\n",
       "    .dataframe tbody tr th {\n",
       "        vertical-align: top;\n",
       "    }\n",
       "\n",
       "    .dataframe thead th {\n",
       "        text-align: right;\n",
       "    }\n",
       "</style>\n",
       "<table border=\"1\" class=\"dataframe\">\n",
       "  <thead>\n",
       "    <tr style=\"text-align: right;\">\n",
       "      <th></th>\n",
       "      <th>ID</th>\n",
       "      <th>Prod</th>\n",
       "      <th>Quant</th>\n",
       "      <th>Val</th>\n",
       "      <th>Insp</th>\n",
       "    </tr>\n",
       "  </thead>\n",
       "  <tbody>\n",
       "    <tr>\n",
       "      <th>0</th>\n",
       "      <td>v1</td>\n",
       "      <td>p1</td>\n",
       "      <td>182</td>\n",
       "      <td>1665.0</td>\n",
       "      <td>unkn</td>\n",
       "    </tr>\n",
       "    <tr>\n",
       "      <th>1</th>\n",
       "      <td>v2</td>\n",
       "      <td>p1</td>\n",
       "      <td>3072</td>\n",
       "      <td>8780.0</td>\n",
       "      <td>unkn</td>\n",
       "    </tr>\n",
       "    <tr>\n",
       "      <th>2</th>\n",
       "      <td>v3</td>\n",
       "      <td>p1</td>\n",
       "      <td>20393</td>\n",
       "      <td>76990.0</td>\n",
       "      <td>unkn</td>\n",
       "    </tr>\n",
       "    <tr>\n",
       "      <th>3</th>\n",
       "      <td>v4</td>\n",
       "      <td>p1</td>\n",
       "      <td>112</td>\n",
       "      <td>1100.0</td>\n",
       "      <td>unkn</td>\n",
       "    </tr>\n",
       "    <tr>\n",
       "      <th>4</th>\n",
       "      <td>v3</td>\n",
       "      <td>p1</td>\n",
       "      <td>6164</td>\n",
       "      <td>20260.0</td>\n",
       "      <td>unkn</td>\n",
       "    </tr>\n",
       "    <tr>\n",
       "      <th>...</th>\n",
       "      <td>...</td>\n",
       "      <td>...</td>\n",
       "      <td>...</td>\n",
       "      <td>...</td>\n",
       "      <td>...</td>\n",
       "    </tr>\n",
       "    <tr>\n",
       "      <th>400253</th>\n",
       "      <td>v5918</td>\n",
       "      <td>p4126</td>\n",
       "      <td>113</td>\n",
       "      <td>9330.0</td>\n",
       "      <td>unkn</td>\n",
       "    </tr>\n",
       "    <tr>\n",
       "      <th>400254</th>\n",
       "      <td>v2540</td>\n",
       "      <td>p4126</td>\n",
       "      <td>118</td>\n",
       "      <td>3355.0</td>\n",
       "      <td>unkn</td>\n",
       "    </tr>\n",
       "    <tr>\n",
       "      <th>400255</th>\n",
       "      <td>v5896</td>\n",
       "      <td>p4127</td>\n",
       "      <td>143</td>\n",
       "      <td>1835.0</td>\n",
       "      <td>unkn</td>\n",
       "    </tr>\n",
       "    <tr>\n",
       "      <th>400256</th>\n",
       "      <td>v1796</td>\n",
       "      <td>p4127</td>\n",
       "      <td>102</td>\n",
       "      <td>1445.0</td>\n",
       "      <td>unkn</td>\n",
       "    </tr>\n",
       "    <tr>\n",
       "      <th>400257</th>\n",
       "      <td>v2540</td>\n",
       "      <td>p4127</td>\n",
       "      <td>106</td>\n",
       "      <td>1275.0</td>\n",
       "      <td>unkn</td>\n",
       "    </tr>\n",
       "  </tbody>\n",
       "</table>\n",
       "<p>400258 rows × 5 columns</p>\n",
       "</div>"
      ],
      "text/plain": [
       "           ID   Prod  Quant      Val  Insp\n",
       "0          v1     p1    182   1665.0  unkn\n",
       "1          v2     p1   3072   8780.0  unkn\n",
       "2          v3     p1  20393  76990.0  unkn\n",
       "3          v4     p1    112   1100.0  unkn\n",
       "4          v3     p1   6164  20260.0  unkn\n",
       "...       ...    ...    ...      ...   ...\n",
       "400253  v5918  p4126    113   9330.0  unkn\n",
       "400254  v2540  p4126    118   3355.0  unkn\n",
       "400255  v5896  p4127    143   1835.0  unkn\n",
       "400256  v1796  p4127    102   1445.0  unkn\n",
       "400257  v2540  p4127    106   1275.0  unkn\n",
       "\n",
       "[400258 rows x 5 columns]"
      ]
     },
     "execution_count": 16,
     "metadata": {},
     "output_type": "execute_result"
    }
   ],
   "source": [
    "# The option of removing all transactions with unknown values on both the quantity and the value is the best option.\n",
    "for i in range (1, len(sales_df)):\n",
    "    if (pd.isna(sales_df.Quant[i]) & pd.isna(sales_df.Val[i])):\n",
    "        sales_df.drop(labels=i, axis=0, inplace=True)       \n",
    "\n",
    "# Reseting indexes\n",
    "sales_df.reset_index(inplace = True, drop = True)\n",
    "sales_df"
   ]
  },
  {
   "cell_type": "code",
   "execution_count": 17,
   "metadata": {
    "ExecuteTime": {
     "end_time": "2021-10-29T11:04:42.345204Z",
     "start_time": "2021-10-29T11:04:22.954935Z"
    }
   },
   "outputs": [],
   "source": [
    "# Deleting the products that have all their transactions with unknown values of the quantity (p2442 and p2443).\n",
    "for i in range (0, len(sales_df)-1):\n",
    "    if (sales_df.Prod[i] == 'p2442'  or sales_df.Prod[i] =='p2443'):\n",
    "        sales_df.drop(labels=i, axis=0, inplace=True)\n",
    "    \n",
    "# Reseting indexes once again\n",
    "sales_df.reset_index(inplace = True, drop = True)"
   ]
  },
  {
   "cell_type": "code",
   "execution_count": 18,
   "metadata": {
    "ExecuteTime": {
     "end_time": "2021-10-29T11:05:31.933853Z",
     "start_time": "2021-10-29T11:04:42.347198Z"
    }
   },
   "outputs": [],
   "source": [
    "# Make a temp copy of the dataframe\n",
    "temp_df = sales_df.copy(deep=True)\n",
    "\n",
    "# We will skip the prices of transactions that were found to be frauds in the calculation of the typical price\n",
    "for i in range (0, len(temp_df)-1):\n",
    "    if (temp_df.Insp[i] == 'fraud'):\n",
    "        temp_df.drop(labels=i, axis=0, inplace=True)\n",
    "        \n",
    "#Reset indexes        \n",
    "temp_df.reset_index(inplace = True, drop = True)\n",
    "\n",
    "# Obtaining the typical unit price for each product\n",
    "temp_df[\"Uprice\"] = pd.to_numeric(temp_df[\"Val\"] / temp_df[\"Quant\"])"
   ]
  },
  {
   "cell_type": "code",
   "execution_count": 19,
   "metadata": {
    "ExecuteTime": {
     "end_time": "2021-10-29T11:05:32.042602Z",
     "start_time": "2021-10-29T11:05:31.935852Z"
    }
   },
   "outputs": [],
   "source": [
    "# Performing groupby on Product and find median of Uprice\n",
    "df_median = temp_df.groupby(['Prod'])['Uprice'].median().to_frame()\n",
    "df_median.columns = ['Median']\n",
    "# Saving index in another column\n",
    "df_median[\"Prod\"] = df_median.index\n",
    "# Reseting indexes\n",
    "df_median.reset_index(inplace = True, drop = True)\n",
    "# Merging sales and df_median\n",
    "frame = [sales_df, df_median]\n",
    "sales_df = sales_df.merge(df_median, on = 'Prod', how = 'inner')"
   ]
  },
  {
   "cell_type": "code",
   "execution_count": 20,
   "metadata": {
    "ExecuteTime": {
     "end_time": "2021-10-29T11:06:02.866019Z",
     "start_time": "2021-10-29T11:05:32.044505Z"
    }
   },
   "outputs": [
    {
     "name": "stderr",
     "output_type": "stream",
     "text": [
      "<ipython-input-20-77f096754652>:4: SettingWithCopyWarning: \n",
      "A value is trying to be set on a copy of a slice from a DataFrame\n",
      "\n",
      "See the caveats in the documentation: https://pandas.pydata.org/pandas-docs/stable/user_guide/indexing.html#returning-a-view-versus-a-copy\n",
      "  sales_df.Quant[i] = sales_df.Val[i] / sales_df.Median[i]\n",
      "<ipython-input-20-77f096754652>:6: SettingWithCopyWarning: \n",
      "A value is trying to be set on a copy of a slice from a DataFrame\n",
      "\n",
      "See the caveats in the documentation: https://pandas.pydata.org/pandas-docs/stable/user_guide/indexing.html#returning-a-view-versus-a-copy\n",
      "  sales_df.Val[i] = sales_df.Quant[i] * sales_df.Median[i]\n"
     ]
    }
   ],
   "source": [
    "# Having a typical unit price for each product, we can use it to calculate any of the two possibly missing values (Quant and Val).\n",
    "for i in range (0, len(sales_df)):\n",
    "    if (pd.isna(sales_df.Quant[i])):\n",
    "        sales_df.Quant[i] = sales_df.Val[i] / sales_df.Median[i]\n",
    "    if (pd.isna(sales_df.Val[i])):\n",
    "        sales_df.Val[i] = sales_df.Quant[i] * sales_df.Median[i]"
   ]
  },
  {
   "cell_type": "code",
   "execution_count": 21,
   "metadata": {
    "ExecuteTime": {
     "end_time": "2021-10-29T11:06:02.959116Z",
     "start_time": "2021-10-29T11:06:02.868021Z"
    }
   },
   "outputs": [],
   "source": [
    "# We can recalculate the Uprice column to fill in the previously unknown unit prices\n",
    "sales_df[\"Uprice\"] = pd.to_numeric(sales_df[\"Val\"] / sales_df[\"Quant\"])"
   ]
  },
  {
   "cell_type": "code",
   "execution_count": 22,
   "metadata": {
    "ExecuteTime": {
     "end_time": "2021-10-29T11:06:03.022239Z",
     "start_time": "2021-10-29T11:06:02.962017Z"
    }
   },
   "outputs": [
    {
     "data": {
      "text/html": [
       "<div>\n",
       "<style scoped>\n",
       "    .dataframe tbody tr th:only-of-type {\n",
       "        vertical-align: middle;\n",
       "    }\n",
       "\n",
       "    .dataframe tbody tr th {\n",
       "        vertical-align: top;\n",
       "    }\n",
       "\n",
       "    .dataframe thead th {\n",
       "        text-align: right;\n",
       "    }\n",
       "</style>\n",
       "<table border=\"1\" class=\"dataframe\">\n",
       "  <thead>\n",
       "    <tr style=\"text-align: right;\">\n",
       "      <th></th>\n",
       "      <th>ID</th>\n",
       "      <th>Prod</th>\n",
       "      <th>Quant</th>\n",
       "      <th>Val</th>\n",
       "      <th>Insp</th>\n",
       "      <th>Median</th>\n",
       "      <th>Uprice</th>\n",
       "    </tr>\n",
       "  </thead>\n",
       "  <tbody>\n",
       "    <tr>\n",
       "      <th>0</th>\n",
       "      <td>v1</td>\n",
       "      <td>p1</td>\n",
       "      <td>182</td>\n",
       "      <td>1665.0</td>\n",
       "      <td>unkn</td>\n",
       "      <td>11.428571</td>\n",
       "      <td>9.148352</td>\n",
       "    </tr>\n",
       "    <tr>\n",
       "      <th>1</th>\n",
       "      <td>v2</td>\n",
       "      <td>p1</td>\n",
       "      <td>3072</td>\n",
       "      <td>8780.0</td>\n",
       "      <td>unkn</td>\n",
       "      <td>11.428571</td>\n",
       "      <td>2.858073</td>\n",
       "    </tr>\n",
       "    <tr>\n",
       "      <th>2</th>\n",
       "      <td>v3</td>\n",
       "      <td>p1</td>\n",
       "      <td>20393</td>\n",
       "      <td>76990.0</td>\n",
       "      <td>unkn</td>\n",
       "      <td>11.428571</td>\n",
       "      <td>3.775315</td>\n",
       "    </tr>\n",
       "    <tr>\n",
       "      <th>3</th>\n",
       "      <td>v4</td>\n",
       "      <td>p1</td>\n",
       "      <td>112</td>\n",
       "      <td>1100.0</td>\n",
       "      <td>unkn</td>\n",
       "      <td>11.428571</td>\n",
       "      <td>9.821429</td>\n",
       "    </tr>\n",
       "    <tr>\n",
       "      <th>4</th>\n",
       "      <td>v3</td>\n",
       "      <td>p1</td>\n",
       "      <td>6164</td>\n",
       "      <td>20260.0</td>\n",
       "      <td>unkn</td>\n",
       "      <td>11.428571</td>\n",
       "      <td>3.286827</td>\n",
       "    </tr>\n",
       "    <tr>\n",
       "      <th>...</th>\n",
       "      <td>...</td>\n",
       "      <td>...</td>\n",
       "      <td>...</td>\n",
       "      <td>...</td>\n",
       "      <td>...</td>\n",
       "      <td>...</td>\n",
       "      <td>...</td>\n",
       "    </tr>\n",
       "    <tr>\n",
       "      <th>400199</th>\n",
       "      <td>v1779</td>\n",
       "      <td>p4548</td>\n",
       "      <td>127</td>\n",
       "      <td>1965.0</td>\n",
       "      <td>unkn</td>\n",
       "      <td>8.796992</td>\n",
       "      <td>15.472441</td>\n",
       "    </tr>\n",
       "    <tr>\n",
       "      <th>400200</th>\n",
       "      <td>v5721</td>\n",
       "      <td>p4548</td>\n",
       "      <td>133</td>\n",
       "      <td>1170.0</td>\n",
       "      <td>unkn</td>\n",
       "      <td>8.796992</td>\n",
       "      <td>8.796992</td>\n",
       "    </tr>\n",
       "    <tr>\n",
       "      <th>400201</th>\n",
       "      <td>v5721</td>\n",
       "      <td>p4548</td>\n",
       "      <td>125</td>\n",
       "      <td>1115.0</td>\n",
       "      <td>unkn</td>\n",
       "      <td>8.796992</td>\n",
       "      <td>8.920000</td>\n",
       "    </tr>\n",
       "    <tr>\n",
       "      <th>400202</th>\n",
       "      <td>v1779</td>\n",
       "      <td>p4548</td>\n",
       "      <td>111</td>\n",
       "      <td>1105.0</td>\n",
       "      <td>unkn</td>\n",
       "      <td>8.796992</td>\n",
       "      <td>9.954955</td>\n",
       "    </tr>\n",
       "    <tr>\n",
       "      <th>400203</th>\n",
       "      <td>v1779</td>\n",
       "      <td>p4548</td>\n",
       "      <td>243</td>\n",
       "      <td>2450.0</td>\n",
       "      <td>unkn</td>\n",
       "      <td>8.796992</td>\n",
       "      <td>10.082305</td>\n",
       "    </tr>\n",
       "  </tbody>\n",
       "</table>\n",
       "<p>400204 rows × 7 columns</p>\n",
       "</div>"
      ],
      "text/plain": [
       "           ID   Prod  Quant      Val  Insp     Median     Uprice\n",
       "0          v1     p1    182   1665.0  unkn  11.428571   9.148352\n",
       "1          v2     p1   3072   8780.0  unkn  11.428571   2.858073\n",
       "2          v3     p1  20393  76990.0  unkn  11.428571   3.775315\n",
       "3          v4     p1    112   1100.0  unkn  11.428571   9.821429\n",
       "4          v3     p1   6164  20260.0  unkn  11.428571   3.286827\n",
       "...       ...    ...    ...      ...   ...        ...        ...\n",
       "400199  v1779  p4548    127   1965.0  unkn   8.796992  15.472441\n",
       "400200  v5721  p4548    133   1170.0  unkn   8.796992   8.796992\n",
       "400201  v5721  p4548    125   1115.0  unkn   8.796992   8.920000\n",
       "400202  v1779  p4548    111   1105.0  unkn   8.796992   9.954955\n",
       "400203  v1779  p4548    243   2450.0  unkn   8.796992  10.082305\n",
       "\n",
       "[400204 rows x 7 columns]"
      ]
     },
     "execution_count": 22,
     "metadata": {},
     "output_type": "execute_result"
    }
   ],
   "source": [
    "sales_df"
   ]
  },
  {
   "cell_type": "markdown",
   "metadata": {},
   "source": [
    "## Unsupervised Learning"
   ]
  },
  {
   "cell_type": "markdown",
   "metadata": {},
   "source": [
    "### Box Plot Rule"
   ]
  },
  {
   "cell_type": "markdown",
   "metadata": {},
   "source": [
    "#### Split Dataset"
   ]
  },
  {
   "cell_type": "code",
   "execution_count": 23,
   "metadata": {
    "ExecuteTime": {
     "end_time": "2021-10-29T11:06:03.117109Z",
     "start_time": "2021-10-29T11:06:03.024203Z"
    }
   },
   "outputs": [],
   "source": [
    "train, test = train_test_split(sales_df, test_size=0.3)"
   ]
  },
  {
   "cell_type": "code",
   "execution_count": 24,
   "metadata": {
    "ExecuteTime": {
     "end_time": "2021-10-29T11:06:06.131862Z",
     "start_time": "2021-10-29T11:06:03.123001Z"
    }
   },
   "outputs": [
    {
     "data": {
      "text/html": [
       "<div>\n",
       "<style scoped>\n",
       "    .dataframe tbody tr th:only-of-type {\n",
       "        vertical-align: middle;\n",
       "    }\n",
       "\n",
       "    .dataframe tbody tr th {\n",
       "        vertical-align: top;\n",
       "    }\n",
       "\n",
       "    .dataframe thead th {\n",
       "        text-align: right;\n",
       "    }\n",
       "</style>\n",
       "<table border=\"1\" class=\"dataframe\">\n",
       "  <thead>\n",
       "    <tr style=\"text-align: right;\">\n",
       "      <th></th>\n",
       "      <th>ID</th>\n",
       "      <th>Prod</th>\n",
       "      <th>Quant</th>\n",
       "      <th>Val</th>\n",
       "      <th>Insp</th>\n",
       "      <th>Median</th>\n",
       "      <th>Uprice</th>\n",
       "      <th>Medians</th>\n",
       "      <th>Diff</th>\n",
       "    </tr>\n",
       "  </thead>\n",
       "  <tbody>\n",
       "    <tr>\n",
       "      <th>268690</th>\n",
       "      <td>v515</td>\n",
       "      <td>p3689</td>\n",
       "      <td>130</td>\n",
       "      <td>1803910.0</td>\n",
       "      <td>unkn</td>\n",
       "      <td>9204.195372</td>\n",
       "      <td>13876.230769</td>\n",
       "      <td>3.417191</td>\n",
       "      <td>13872.813578</td>\n",
       "    </tr>\n",
       "    <tr>\n",
       "      <th>268691</th>\n",
       "      <td>v515</td>\n",
       "      <td>p3689</td>\n",
       "      <td>127</td>\n",
       "      <td>1551595.0</td>\n",
       "      <td>unkn</td>\n",
       "      <td>9204.195372</td>\n",
       "      <td>12217.283465</td>\n",
       "      <td>3.417191</td>\n",
       "      <td>12213.866274</td>\n",
       "    </tr>\n",
       "    <tr>\n",
       "      <th>268697</th>\n",
       "      <td>v515</td>\n",
       "      <td>p3689</td>\n",
       "      <td>124</td>\n",
       "      <td>1408895.0</td>\n",
       "      <td>unkn</td>\n",
       "      <td>9204.195372</td>\n",
       "      <td>11362.056452</td>\n",
       "      <td>3.417191</td>\n",
       "      <td>11358.639261</td>\n",
       "    </tr>\n",
       "    <tr>\n",
       "      <th>268692</th>\n",
       "      <td>v3669</td>\n",
       "      <td>p3689</td>\n",
       "      <td>0.115708</td>\n",
       "      <td>1065.0</td>\n",
       "      <td>unkn</td>\n",
       "      <td>9204.195372</td>\n",
       "      <td>9204.195372</td>\n",
       "      <td>3.417191</td>\n",
       "      <td>9200.778181</td>\n",
       "    </tr>\n",
       "    <tr>\n",
       "      <th>184187</th>\n",
       "      <td>v2931</td>\n",
       "      <td>p2451</td>\n",
       "      <td>218</td>\n",
       "      <td>1918300.0</td>\n",
       "      <td>unkn</td>\n",
       "      <td>262.227723</td>\n",
       "      <td>8799.541284</td>\n",
       "      <td>3.342105</td>\n",
       "      <td>8796.199179</td>\n",
       "    </tr>\n",
       "    <tr>\n",
       "      <th>249969</th>\n",
       "      <td>v5086</td>\n",
       "      <td>p3682</td>\n",
       "      <td>402</td>\n",
       "      <td>3299740.0</td>\n",
       "      <td>unkn</td>\n",
       "      <td>156.351351</td>\n",
       "      <td>8208.308458</td>\n",
       "      <td>9.241071</td>\n",
       "      <td>8199.067386</td>\n",
       "    </tr>\n",
       "    <tr>\n",
       "      <th>184112</th>\n",
       "      <td>v2931</td>\n",
       "      <td>p2451</td>\n",
       "      <td>213</td>\n",
       "      <td>1709470.0</td>\n",
       "      <td>unkn</td>\n",
       "      <td>262.227723</td>\n",
       "      <td>8025.680751</td>\n",
       "      <td>3.342105</td>\n",
       "      <td>8022.338646</td>\n",
       "    </tr>\n",
       "    <tr>\n",
       "      <th>249962</th>\n",
       "      <td>v5086</td>\n",
       "      <td>p3682</td>\n",
       "      <td>441</td>\n",
       "      <td>3278685.0</td>\n",
       "      <td>unkn</td>\n",
       "      <td>156.351351</td>\n",
       "      <td>7434.659864</td>\n",
       "      <td>9.241071</td>\n",
       "      <td>7425.418793</td>\n",
       "    </tr>\n",
       "    <tr>\n",
       "      <th>249974</th>\n",
       "      <td>v5086</td>\n",
       "      <td>p3682</td>\n",
       "      <td>441</td>\n",
       "      <td>3278685.0</td>\n",
       "      <td>unkn</td>\n",
       "      <td>156.351351</td>\n",
       "      <td>7434.659864</td>\n",
       "      <td>9.241071</td>\n",
       "      <td>7425.418793</td>\n",
       "    </tr>\n",
       "    <tr>\n",
       "      <th>249973</th>\n",
       "      <td>v5086</td>\n",
       "      <td>p3682</td>\n",
       "      <td>441</td>\n",
       "      <td>3278685.0</td>\n",
       "      <td>unkn</td>\n",
       "      <td>156.351351</td>\n",
       "      <td>7434.659864</td>\n",
       "      <td>9.241071</td>\n",
       "      <td>7425.418793</td>\n",
       "    </tr>\n",
       "  </tbody>\n",
       "</table>\n",
       "</div>"
      ],
      "text/plain": [
       "           ID   Prod     Quant        Val  Insp       Median        Uprice  \\\n",
       "268690   v515  p3689       130  1803910.0  unkn  9204.195372  13876.230769   \n",
       "268691   v515  p3689       127  1551595.0  unkn  9204.195372  12217.283465   \n",
       "268697   v515  p3689       124  1408895.0  unkn  9204.195372  11362.056452   \n",
       "268692  v3669  p3689  0.115708     1065.0  unkn  9204.195372   9204.195372   \n",
       "184187  v2931  p2451       218  1918300.0  unkn   262.227723   8799.541284   \n",
       "249969  v5086  p3682       402  3299740.0  unkn   156.351351   8208.308458   \n",
       "184112  v2931  p2451       213  1709470.0  unkn   262.227723   8025.680751   \n",
       "249962  v5086  p3682       441  3278685.0  unkn   156.351351   7434.659864   \n",
       "249974  v5086  p3682       441  3278685.0  unkn   156.351351   7434.659864   \n",
       "249973  v5086  p3682       441  3278685.0  unkn   156.351351   7434.659864   \n",
       "\n",
       "         Medians          Diff  \n",
       "268690  3.417191  13872.813578  \n",
       "268691  3.417191  12213.866274  \n",
       "268697  3.417191  11358.639261  \n",
       "268692  3.417191   9200.778181  \n",
       "184187  3.342105   8796.199179  \n",
       "249969  9.241071   8199.067386  \n",
       "184112  3.342105   8022.338646  \n",
       "249962  9.241071   7425.418793  \n",
       "249974  9.241071   7425.418793  \n",
       "249973  9.241071   7425.418793  "
      ]
     },
     "execution_count": 24,
     "metadata": {},
     "output_type": "execute_result"
    }
   ],
   "source": [
    "import pandas as pd\n",
    "pd.options.mode.chained_assignment = None  # default='warn'\n",
    "\n",
    "##remove fraud inspections\n",
    "nfraud = train.loc[train['Insp'] != \"fraud\"]\n",
    "nfraud.reset_index(drop=True, inplace=True)\n",
    "\n",
    "#remove transactions with 0 quantity\n",
    "for i in range (0, len(nfraud)-1):\n",
    "    if (nfraud.Quant[i] == 0):\n",
    "        nfraud.drop(labels=i, axis=0, inplace=True)\n",
    "        \n",
    "##calculate unit price per product\n",
    "nfraud['Uprice'] = pd.to_numeric(nfraud['Val'] / nfraud['Quant'])\n",
    "nfraud\n",
    "\n",
    "# Performing groupby on Product and find median of Upric\n",
    "m = nfraud.groupby(['Prod'])['Uprice'].median().to_frame()\n",
    "\n",
    "products = nfraud['Prod'].unique().tolist()\n",
    "\n",
    "##create dataframe with product and its median\n",
    "mdf = pd.DataFrame(list(zip(products,m['Uprice'])),columns = ['Prod','Medians'])\n",
    "\n",
    "##merge initial dataframe and median dataframe \n",
    "frame = [nfraud,mdf]\n",
    "result = nfraud.merge(mdf, on = 'Prod',how = 'outer')\n",
    "\n",
    "#calculate outliers\n",
    "result['Diff'] = abs(result[\"Uprice\"] - result[\"Medians\"])\n",
    "result.sort_values(by='Diff', ascending = False).head(10)"
   ]
  },
  {
   "cell_type": "markdown",
   "metadata": {},
   "source": [
    "Observing outlier detection results, salesman with ID v515 sales product p3689 with more than 21161.16 value units from the average price of this specific product(9204.19). Additionaly salesman with ID v54 sales product p490 with more than 9947.4 value units from the average price of this specific product(9949.45). "
   ]
  },
  {
   "cell_type": "markdown",
   "metadata": {},
   "source": [
    "### Local Outlier Factor"
   ]
  },
  {
   "cell_type": "markdown",
   "metadata": {},
   "source": [
    "The Local Outlier Factor (LOF) algorithm is an unsupervised anomaly detection method which computes the local density deviation of a given data point with respect to its neighbors. It considers as outliers the samples that have a substantially lower density than their neighbors. "
   ]
  },
  {
   "cell_type": "code",
   "execution_count": 47,
   "metadata": {
    "ExecuteTime": {
     "end_time": "2021-10-29T11:18:05.785904Z",
     "start_time": "2021-10-29T11:18:05.276726Z"
    }
   },
   "outputs": [
    {
     "data": {
      "text/html": [
       "<div>\n",
       "<style scoped>\n",
       "    .dataframe tbody tr th:only-of-type {\n",
       "        vertical-align: middle;\n",
       "    }\n",
       "\n",
       "    .dataframe tbody tr th {\n",
       "        vertical-align: top;\n",
       "    }\n",
       "\n",
       "    .dataframe thead th {\n",
       "        text-align: right;\n",
       "    }\n",
       "</style>\n",
       "<table border=\"1\" class=\"dataframe\">\n",
       "  <thead>\n",
       "    <tr style=\"text-align: right;\">\n",
       "      <th></th>\n",
       "      <th>Prod</th>\n",
       "      <th>ID</th>\n",
       "      <th>Val</th>\n",
       "      <th>Quant</th>\n",
       "      <th>Uprice</th>\n",
       "      <th>Insp</th>\n",
       "    </tr>\n",
       "  </thead>\n",
       "  <tbody>\n",
       "    <tr>\n",
       "      <th>0</th>\n",
       "      <td>p1</td>\n",
       "      <td>v1</td>\n",
       "      <td>1665.0</td>\n",
       "      <td>182.0</td>\n",
       "      <td>9.148352</td>\n",
       "      <td>unkn</td>\n",
       "    </tr>\n",
       "    <tr>\n",
       "      <th>1</th>\n",
       "      <td>p1</td>\n",
       "      <td>v2</td>\n",
       "      <td>8780.0</td>\n",
       "      <td>3072.0</td>\n",
       "      <td>2.858073</td>\n",
       "      <td>unkn</td>\n",
       "    </tr>\n",
       "    <tr>\n",
       "      <th>2</th>\n",
       "      <td>p1</td>\n",
       "      <td>v3</td>\n",
       "      <td>76990.0</td>\n",
       "      <td>20393.0</td>\n",
       "      <td>3.775315</td>\n",
       "      <td>unkn</td>\n",
       "    </tr>\n",
       "    <tr>\n",
       "      <th>3</th>\n",
       "      <td>p1</td>\n",
       "      <td>v4</td>\n",
       "      <td>1100.0</td>\n",
       "      <td>112.0</td>\n",
       "      <td>9.821429</td>\n",
       "      <td>unkn</td>\n",
       "    </tr>\n",
       "    <tr>\n",
       "      <th>4</th>\n",
       "      <td>p1</td>\n",
       "      <td>v3</td>\n",
       "      <td>20260.0</td>\n",
       "      <td>6164.0</td>\n",
       "      <td>3.286827</td>\n",
       "      <td>unkn</td>\n",
       "    </tr>\n",
       "    <tr>\n",
       "      <th>...</th>\n",
       "      <td>...</td>\n",
       "      <td>...</td>\n",
       "      <td>...</td>\n",
       "      <td>...</td>\n",
       "      <td>...</td>\n",
       "      <td>...</td>\n",
       "    </tr>\n",
       "    <tr>\n",
       "      <th>400199</th>\n",
       "      <td>p4548</td>\n",
       "      <td>v1779</td>\n",
       "      <td>1965.0</td>\n",
       "      <td>127.0</td>\n",
       "      <td>15.472441</td>\n",
       "      <td>unkn</td>\n",
       "    </tr>\n",
       "    <tr>\n",
       "      <th>400200</th>\n",
       "      <td>p4548</td>\n",
       "      <td>v5721</td>\n",
       "      <td>1170.0</td>\n",
       "      <td>133.0</td>\n",
       "      <td>8.796992</td>\n",
       "      <td>unkn</td>\n",
       "    </tr>\n",
       "    <tr>\n",
       "      <th>400201</th>\n",
       "      <td>p4548</td>\n",
       "      <td>v5721</td>\n",
       "      <td>1115.0</td>\n",
       "      <td>125.0</td>\n",
       "      <td>8.920000</td>\n",
       "      <td>unkn</td>\n",
       "    </tr>\n",
       "    <tr>\n",
       "      <th>400202</th>\n",
       "      <td>p4548</td>\n",
       "      <td>v1779</td>\n",
       "      <td>1105.0</td>\n",
       "      <td>111.0</td>\n",
       "      <td>9.954955</td>\n",
       "      <td>unkn</td>\n",
       "    </tr>\n",
       "    <tr>\n",
       "      <th>400203</th>\n",
       "      <td>p4548</td>\n",
       "      <td>v1779</td>\n",
       "      <td>2450.0</td>\n",
       "      <td>243.0</td>\n",
       "      <td>10.082305</td>\n",
       "      <td>unkn</td>\n",
       "    </tr>\n",
       "  </tbody>\n",
       "</table>\n",
       "<p>400204 rows × 6 columns</p>\n",
       "</div>"
      ],
      "text/plain": [
       "         Prod     ID      Val    Quant     Uprice  Insp\n",
       "0          p1     v1   1665.0    182.0   9.148352  unkn\n",
       "1          p1     v2   8780.0   3072.0   2.858073  unkn\n",
       "2          p1     v3  76990.0  20393.0   3.775315  unkn\n",
       "3          p1     v4   1100.0    112.0   9.821429  unkn\n",
       "4          p1     v3  20260.0   6164.0   3.286827  unkn\n",
       "...       ...    ...      ...      ...        ...   ...\n",
       "400199  p4548  v1779   1965.0    127.0  15.472441  unkn\n",
       "400200  p4548  v5721   1170.0    133.0   8.796992  unkn\n",
       "400201  p4548  v5721   1115.0    125.0   8.920000  unkn\n",
       "400202  p4548  v1779   1105.0    111.0   9.954955  unkn\n",
       "400203  p4548  v1779   2450.0    243.0  10.082305  unkn\n",
       "\n",
       "[400204 rows x 6 columns]"
      ]
     },
     "execution_count": 47,
     "metadata": {},
     "output_type": "execute_result"
    }
   ],
   "source": [
    "##create new dataset\n",
    "uprice = sales_df['Val'] / sales_df['Quant']\n",
    "prod = sales_df['Prod']\n",
    "salesman = sales_df['ID']\n",
    "value = sales_df['Val']\n",
    "quantity = sales_df['Quant']\n",
    "Insp = sales_df['Insp']\n",
    "\n",
    "new_df = pd.DataFrame(list(zip(prod,salesman,value,quantity,uprice,Insp)),columns = ['Prod','ID','Val','Quant','Uprice','Insp'])\n",
    "new_df"
   ]
  },
  {
   "cell_type": "markdown",
   "metadata": {},
   "source": [
    "In this context we are treating the products separately and then we will apply the LOF algorithm to a\n",
    "dataset of reports described only by the unit price."
   ]
  },
  {
   "cell_type": "code",
   "execution_count": 48,
   "metadata": {
    "ExecuteTime": {
     "end_time": "2021-10-29T11:18:11.444031Z",
     "start_time": "2021-10-29T11:18:11.243371Z"
    }
   },
   "outputs": [],
   "source": [
    "n = new_df.groupby('Prod')['Uprice'].apply(list)"
   ]
  },
  {
   "cell_type": "code",
   "execution_count": 49,
   "metadata": {
    "ExecuteTime": {
     "end_time": "2021-10-29T11:18:28.425848Z",
     "start_time": "2021-10-29T11:18:13.634944Z"
    }
   },
   "outputs": [
    {
     "name": "stdout",
     "output_type": "stream",
     "text": [
      "400204\n"
     ]
    }
   ],
   "source": [
    "## calculate local outlier factors\n",
    "outFactor = []\n",
    "for i in range (0,n.shape[0]):\n",
    "    clf = LocalOutlierFactor(n_neighbors=2)\n",
    "    p = pd.DataFrame(list(zip(n[i])),columns=['Single Prod Uprices'])\n",
    "    p['Single Prod Uprices'].values\n",
    "    if(p.shape[0] > 3):\n",
    "        ypred = clf.fit_predict(p)\n",
    "    else:\n",
    "        ypred = [1] * p.shape[0] ##normal  \n",
    "    \n",
    "    outFactor = np.concatenate((outFactor,ypred))\n",
    "\n",
    "print(outFactor.shape[0])"
   ]
  },
  {
   "cell_type": "markdown",
   "metadata": {},
   "source": [
    "Note: The for loop goes over each of these sets of prices and applies the LOF method to obtain an outlier factor for each of the prices.We only used the LOF method if there were at least three reports(because kneighbours = 2); otherwise all values were tagged as normal (score 0)."
   ]
  },
  {
   "cell_type": "markdown",
   "metadata": {},
   "source": [
    "Outlier factors equal to -1 indicate that this observation deviates in a great deegre from the normal one, so this transaction is classified as fraud."
   ]
  },
  {
   "cell_type": "code",
   "execution_count": 50,
   "metadata": {
    "ExecuteTime": {
     "end_time": "2021-10-29T11:18:28.771099Z",
     "start_time": "2021-10-29T11:18:28.743935Z"
    }
   },
   "outputs": [
    {
     "data": {
      "text/html": [
       "<div>\n",
       "<style scoped>\n",
       "    .dataframe tbody tr th:only-of-type {\n",
       "        vertical-align: middle;\n",
       "    }\n",
       "\n",
       "    .dataframe tbody tr th {\n",
       "        vertical-align: top;\n",
       "    }\n",
       "\n",
       "    .dataframe thead th {\n",
       "        text-align: right;\n",
       "    }\n",
       "</style>\n",
       "<table border=\"1\" class=\"dataframe\">\n",
       "  <thead>\n",
       "    <tr style=\"text-align: right;\">\n",
       "      <th></th>\n",
       "      <th>Prod</th>\n",
       "      <th>ID</th>\n",
       "      <th>Val</th>\n",
       "      <th>Quant</th>\n",
       "      <th>Uprice</th>\n",
       "      <th>Insp</th>\n",
       "      <th>Outlier Factor</th>\n",
       "    </tr>\n",
       "  </thead>\n",
       "  <tbody>\n",
       "    <tr>\n",
       "      <th>0</th>\n",
       "      <td>p1</td>\n",
       "      <td>v1</td>\n",
       "      <td>1665.0</td>\n",
       "      <td>182.0</td>\n",
       "      <td>9.148352</td>\n",
       "      <td>unkn</td>\n",
       "      <td>1.0</td>\n",
       "    </tr>\n",
       "    <tr>\n",
       "      <th>1</th>\n",
       "      <td>p1</td>\n",
       "      <td>v2</td>\n",
       "      <td>8780.0</td>\n",
       "      <td>3072.0</td>\n",
       "      <td>2.858073</td>\n",
       "      <td>unkn</td>\n",
       "      <td>1.0</td>\n",
       "    </tr>\n",
       "    <tr>\n",
       "      <th>2</th>\n",
       "      <td>p1</td>\n",
       "      <td>v3</td>\n",
       "      <td>76990.0</td>\n",
       "      <td>20393.0</td>\n",
       "      <td>3.775315</td>\n",
       "      <td>unkn</td>\n",
       "      <td>1.0</td>\n",
       "    </tr>\n",
       "    <tr>\n",
       "      <th>3</th>\n",
       "      <td>p1</td>\n",
       "      <td>v4</td>\n",
       "      <td>1100.0</td>\n",
       "      <td>112.0</td>\n",
       "      <td>9.821429</td>\n",
       "      <td>unkn</td>\n",
       "      <td>-1.0</td>\n",
       "    </tr>\n",
       "    <tr>\n",
       "      <th>4</th>\n",
       "      <td>p1</td>\n",
       "      <td>v3</td>\n",
       "      <td>20260.0</td>\n",
       "      <td>6164.0</td>\n",
       "      <td>3.286827</td>\n",
       "      <td>unkn</td>\n",
       "      <td>-1.0</td>\n",
       "    </tr>\n",
       "    <tr>\n",
       "      <th>...</th>\n",
       "      <td>...</td>\n",
       "      <td>...</td>\n",
       "      <td>...</td>\n",
       "      <td>...</td>\n",
       "      <td>...</td>\n",
       "      <td>...</td>\n",
       "      <td>...</td>\n",
       "    </tr>\n",
       "    <tr>\n",
       "      <th>400199</th>\n",
       "      <td>p4548</td>\n",
       "      <td>v1779</td>\n",
       "      <td>1965.0</td>\n",
       "      <td>127.0</td>\n",
       "      <td>15.472441</td>\n",
       "      <td>unkn</td>\n",
       "      <td>-1.0</td>\n",
       "    </tr>\n",
       "    <tr>\n",
       "      <th>400200</th>\n",
       "      <td>p4548</td>\n",
       "      <td>v5721</td>\n",
       "      <td>1170.0</td>\n",
       "      <td>133.0</td>\n",
       "      <td>8.796992</td>\n",
       "      <td>unkn</td>\n",
       "      <td>1.0</td>\n",
       "    </tr>\n",
       "    <tr>\n",
       "      <th>400201</th>\n",
       "      <td>p4548</td>\n",
       "      <td>v5721</td>\n",
       "      <td>1115.0</td>\n",
       "      <td>125.0</td>\n",
       "      <td>8.920000</td>\n",
       "      <td>unkn</td>\n",
       "      <td>-1.0</td>\n",
       "    </tr>\n",
       "    <tr>\n",
       "      <th>400202</th>\n",
       "      <td>p4548</td>\n",
       "      <td>v1779</td>\n",
       "      <td>1105.0</td>\n",
       "      <td>111.0</td>\n",
       "      <td>9.954955</td>\n",
       "      <td>unkn</td>\n",
       "      <td>1.0</td>\n",
       "    </tr>\n",
       "    <tr>\n",
       "      <th>400203</th>\n",
       "      <td>p4548</td>\n",
       "      <td>v1779</td>\n",
       "      <td>2450.0</td>\n",
       "      <td>243.0</td>\n",
       "      <td>10.082305</td>\n",
       "      <td>unkn</td>\n",
       "      <td>-1.0</td>\n",
       "    </tr>\n",
       "  </tbody>\n",
       "</table>\n",
       "<p>400204 rows × 7 columns</p>\n",
       "</div>"
      ],
      "text/plain": [
       "         Prod     ID      Val    Quant     Uprice  Insp  Outlier Factor\n",
       "0          p1     v1   1665.0    182.0   9.148352  unkn             1.0\n",
       "1          p1     v2   8780.0   3072.0   2.858073  unkn             1.0\n",
       "2          p1     v3  76990.0  20393.0   3.775315  unkn             1.0\n",
       "3          p1     v4   1100.0    112.0   9.821429  unkn            -1.0\n",
       "4          p1     v3  20260.0   6164.0   3.286827  unkn            -1.0\n",
       "...       ...    ...      ...      ...        ...   ...             ...\n",
       "400199  p4548  v1779   1965.0    127.0  15.472441  unkn            -1.0\n",
       "400200  p4548  v5721   1170.0    133.0   8.796992  unkn             1.0\n",
       "400201  p4548  v5721   1115.0    125.0   8.920000  unkn            -1.0\n",
       "400202  p4548  v1779   1105.0    111.0   9.954955  unkn             1.0\n",
       "400203  p4548  v1779   2450.0    243.0  10.082305  unkn            -1.0\n",
       "\n",
       "[400204 rows x 7 columns]"
      ]
     },
     "execution_count": 50,
     "metadata": {},
     "output_type": "execute_result"
    }
   ],
   "source": [
    "new_df['Outlier Factor'] = outFactor\n",
    "new_df"
   ]
  },
  {
   "cell_type": "code",
   "execution_count": 51,
   "metadata": {
    "ExecuteTime": {
     "end_time": "2021-10-29T11:18:29.174636Z",
     "start_time": "2021-10-29T11:18:29.083881Z"
    }
   },
   "outputs": [
    {
     "name": "stdout",
     "output_type": "stream",
     "text": [
      "(384478, 7)\n"
     ]
    },
    {
     "data": {
      "text/plain": [
       " 1.0    287030\n",
       "-1.0     97448\n",
       "Name: Outlier Factor, dtype: int64"
      ]
     },
     "execution_count": 51,
     "metadata": {},
     "output_type": "execute_result"
    }
   ],
   "source": [
    "#keep only unkn inspections\n",
    "uInsp_df = new_df.loc[new_df['Insp'] == \"unkn\"]\n",
    "uInsp_df.reset_index(drop=True, inplace=True)\n",
    "print(uInsp_df.shape)\n",
    "\n",
    "uInsp_df['Outlier Factor'].value_counts()"
   ]
  },
  {
   "cell_type": "markdown",
   "metadata": {},
   "source": [
    "By applying local outlier factor 97448 transactions have been detected as anomalies (frauds). The score for fraud transactions is close to 25% while valid transanctios are approximate 75% of the dataset."
   ]
  },
  {
   "cell_type": "markdown",
   "metadata": {},
   "source": [
    "   #### precision and recall"
   ]
  },
  {
   "cell_type": "code",
   "execution_count": 52,
   "metadata": {
    "ExecuteTime": {
     "end_time": "2021-10-29T11:18:51.217801Z",
     "start_time": "2021-10-29T11:18:51.152949Z"
    }
   },
   "outputs": [
    {
     "data": {
      "text/plain": [
       "<bound method NDFrame.head of         Prod     ID       Val    Quant      Uprice   Insp  Outlier Factor\n",
       "0        p11    v42  310780.0  51097.0    6.082157     ok             1.0\n",
       "1        p11    v45    1925.0    260.0    7.403846     ok             1.0\n",
       "2        p11    v42  278770.0  51282.0    5.436020     ok            -1.0\n",
       "3        p11    v50  281485.0  46903.0    6.001428     ok             1.0\n",
       "4        p11    v49  235285.0  52486.0    4.482814     ok             1.0\n",
       "...      ...    ...       ...      ...         ...    ...             ...\n",
       "15721  p4513  v4998  138480.0    983.0  140.874873  fraud            -1.0\n",
       "15722  p4535   v169   10980.0   1529.0    7.181164  fraud            -1.0\n",
       "15723  p4535  v4979   25840.0    105.0  246.095238     ok             1.0\n",
       "15724  p4535   v180   36760.0    307.0  119.739414     ok            -1.0\n",
       "15725  p4535   v160   45770.0    357.0  128.207283     ok             1.0\n",
       "\n",
       "[15726 rows x 7 columns]>"
      ]
     },
     "execution_count": 52,
     "metadata": {},
     "output_type": "execute_result"
    }
   ],
   "source": [
    "#keep only unkn inspections\n",
    "nuInsp_df = new_df.loc[new_df['Insp'] != \"unkn\"]\n",
    "nuInsp_df.reset_index(drop=True, inplace=True)\n",
    "nuInsp_df.head"
   ]
  },
  {
   "cell_type": "code",
   "execution_count": 53,
   "metadata": {
    "ExecuteTime": {
     "end_time": "2021-10-29T11:19:01.474605Z",
     "start_time": "2021-10-29T11:19:01.448677Z"
    }
   },
   "outputs": [
    {
     "data": {
      "text/plain": [
       "<bound method NDFrame.head of         Prod     ID       Val    Quant      Uprice  Outlier Factor  Insp\n",
       "0        p11    v42  310780.0  51097.0    6.082157             1.0   1.0\n",
       "1        p11    v45    1925.0    260.0    7.403846             1.0   1.0\n",
       "2        p11    v42  278770.0  51282.0    5.436020            -1.0   1.0\n",
       "3        p11    v50  281485.0  46903.0    6.001428             1.0   1.0\n",
       "4        p11    v49  235285.0  52486.0    4.482814             1.0   1.0\n",
       "...      ...    ...       ...      ...         ...             ...   ...\n",
       "15721  p4513  v4998  138480.0    983.0  140.874873            -1.0  -1.0\n",
       "15722  p4535   v169   10980.0   1529.0    7.181164            -1.0  -1.0\n",
       "15723  p4535  v4979   25840.0    105.0  246.095238             1.0   1.0\n",
       "15724  p4535   v180   36760.0    307.0  119.739414            -1.0   1.0\n",
       "15725  p4535   v160   45770.0    357.0  128.207283             1.0   1.0\n",
       "\n",
       "[15726 rows x 7 columns]>"
      ]
     },
     "execution_count": 53,
     "metadata": {},
     "output_type": "execute_result"
    }
   ],
   "source": [
    "# 1. \n",
    "iDict =   {'ok':1.0, 'fraud':-1.0}\n",
    "# 2. \n",
    "nuInsp_df['insp'] = nuInsp_df.Insp.map(iDict)\n",
    "nuInsp_df = nuInsp_df.drop('Insp', axis = 1)\n",
    "\n",
    "# Use the .rename() method to rename count to total\n",
    "nuInsp_df.rename(columns={'insp':'Insp'}, inplace=True)"
   ]
  },
  {
   "cell_type": "code",
   "execution_count": 54,
   "metadata": {
    "ExecuteTime": {
     "end_time": "2021-10-29T11:19:09.506313Z",
     "start_time": "2021-10-29T11:19:09.482376Z"
    }
   },
   "outputs": [
    {
     "data": {
      "text/plain": [
       "0.7097163932341346"
      ]
     },
     "execution_count": 54,
     "metadata": {},
     "output_type": "execute_result"
    }
   ],
   "source": [
    "from sklearn.metrics import recall_score\n",
    "\n",
    "recall_score(nuInsp_df['Insp'],nuInsp_df['Outlier Factor'] , average='micro')"
   ]
  },
  {
   "cell_type": "code",
   "execution_count": 56,
   "metadata": {
    "ExecuteTime": {
     "end_time": "2021-10-29T11:23:23.346687Z",
     "start_time": "2021-10-29T11:23:23.319760Z"
    }
   },
   "outputs": [
    {
     "data": {
      "text/plain": [
       "0.4995796966358783"
      ]
     },
     "execution_count": 56,
     "metadata": {},
     "output_type": "execute_result"
    }
   ],
   "source": [
    "from sklearn.metrics import precision_score\n",
    "\n",
    "precision_score(nuInsp_df['Insp'], nuInsp_df['Outlier Factor'], average='macro')"
   ]
  },
  {
   "cell_type": "markdown",
   "metadata": {},
   "source": [
    "### Cluster Based Outlier Ranking"
   ]
  },
  {
   "cell_type": "markdown",
   "metadata": {},
   "source": [
    "The next outlier ranking method we consider is based on the results of a\n",
    "clustering algorithm which uses a hierarchical agglomerative clustering to obtain a dendrogram of the given data.  At the lowest level we have a solution with as many\n",
    "groups as there are observations on the given training data. This is the initial solution of the iterative algorithm used by these methods. The next steps\n",
    "of this algorithm decide which two groups from the previous step should be\n",
    "merged into a single cluster. Note that the members of the larger group involved in the merge get the\n",
    "score 0, as we are interested in members of small groups. "
   ]
  },
  {
   "cell_type": "code",
   "execution_count": 31,
   "metadata": {
    "ExecuteTime": {
     "end_time": "2021-10-27T16:37:20.965535Z",
     "start_time": "2021-10-27T16:37:20.464876Z"
    }
   },
   "outputs": [
    {
     "data": {
      "text/html": [
       "<div>\n",
       "<style scoped>\n",
       "    .dataframe tbody tr th:only-of-type {\n",
       "        vertical-align: middle;\n",
       "    }\n",
       "\n",
       "    .dataframe tbody tr th {\n",
       "        vertical-align: top;\n",
       "    }\n",
       "\n",
       "    .dataframe thead th {\n",
       "        text-align: right;\n",
       "    }\n",
       "</style>\n",
       "<table border=\"1\" class=\"dataframe\">\n",
       "  <thead>\n",
       "    <tr style=\"text-align: right;\">\n",
       "      <th></th>\n",
       "      <th>Prod</th>\n",
       "      <th>ID</th>\n",
       "      <th>Val</th>\n",
       "      <th>Quant</th>\n",
       "      <th>Uprice</th>\n",
       "      <th>Insp</th>\n",
       "    </tr>\n",
       "  </thead>\n",
       "  <tbody>\n",
       "    <tr>\n",
       "      <th>0</th>\n",
       "      <td>p1</td>\n",
       "      <td>v1</td>\n",
       "      <td>1665.0</td>\n",
       "      <td>182.0</td>\n",
       "      <td>9.148352</td>\n",
       "      <td>unkn</td>\n",
       "    </tr>\n",
       "    <tr>\n",
       "      <th>1</th>\n",
       "      <td>p1</td>\n",
       "      <td>v2</td>\n",
       "      <td>8780.0</td>\n",
       "      <td>3072.0</td>\n",
       "      <td>2.858073</td>\n",
       "      <td>unkn</td>\n",
       "    </tr>\n",
       "    <tr>\n",
       "      <th>2</th>\n",
       "      <td>p1</td>\n",
       "      <td>v3</td>\n",
       "      <td>76990.0</td>\n",
       "      <td>20393.0</td>\n",
       "      <td>3.775315</td>\n",
       "      <td>unkn</td>\n",
       "    </tr>\n",
       "    <tr>\n",
       "      <th>3</th>\n",
       "      <td>p1</td>\n",
       "      <td>v4</td>\n",
       "      <td>1100.0</td>\n",
       "      <td>112.0</td>\n",
       "      <td>9.821429</td>\n",
       "      <td>unkn</td>\n",
       "    </tr>\n",
       "    <tr>\n",
       "      <th>4</th>\n",
       "      <td>p1</td>\n",
       "      <td>v3</td>\n",
       "      <td>20260.0</td>\n",
       "      <td>6164.0</td>\n",
       "      <td>3.286827</td>\n",
       "      <td>unkn</td>\n",
       "    </tr>\n",
       "    <tr>\n",
       "      <th>...</th>\n",
       "      <td>...</td>\n",
       "      <td>...</td>\n",
       "      <td>...</td>\n",
       "      <td>...</td>\n",
       "      <td>...</td>\n",
       "      <td>...</td>\n",
       "    </tr>\n",
       "    <tr>\n",
       "      <th>400199</th>\n",
       "      <td>p4548</td>\n",
       "      <td>v1779</td>\n",
       "      <td>1965.0</td>\n",
       "      <td>127.0</td>\n",
       "      <td>15.472441</td>\n",
       "      <td>unkn</td>\n",
       "    </tr>\n",
       "    <tr>\n",
       "      <th>400200</th>\n",
       "      <td>p4548</td>\n",
       "      <td>v5721</td>\n",
       "      <td>1170.0</td>\n",
       "      <td>133.0</td>\n",
       "      <td>8.796992</td>\n",
       "      <td>unkn</td>\n",
       "    </tr>\n",
       "    <tr>\n",
       "      <th>400201</th>\n",
       "      <td>p4548</td>\n",
       "      <td>v5721</td>\n",
       "      <td>1115.0</td>\n",
       "      <td>125.0</td>\n",
       "      <td>8.920000</td>\n",
       "      <td>unkn</td>\n",
       "    </tr>\n",
       "    <tr>\n",
       "      <th>400202</th>\n",
       "      <td>p4548</td>\n",
       "      <td>v1779</td>\n",
       "      <td>1105.0</td>\n",
       "      <td>111.0</td>\n",
       "      <td>9.954955</td>\n",
       "      <td>unkn</td>\n",
       "    </tr>\n",
       "    <tr>\n",
       "      <th>400203</th>\n",
       "      <td>p4548</td>\n",
       "      <td>v1779</td>\n",
       "      <td>2450.0</td>\n",
       "      <td>243.0</td>\n",
       "      <td>10.082305</td>\n",
       "      <td>unkn</td>\n",
       "    </tr>\n",
       "  </tbody>\n",
       "</table>\n",
       "<p>400204 rows × 6 columns</p>\n",
       "</div>"
      ],
      "text/plain": [
       "         Prod     ID      Val    Quant     Uprice  Insp\n",
       "0          p1     v1   1665.0    182.0   9.148352  unkn\n",
       "1          p1     v2   8780.0   3072.0   2.858073  unkn\n",
       "2          p1     v3  76990.0  20393.0   3.775315  unkn\n",
       "3          p1     v4   1100.0    112.0   9.821429  unkn\n",
       "4          p1     v3  20260.0   6164.0   3.286827  unkn\n",
       "...       ...    ...      ...      ...        ...   ...\n",
       "400199  p4548  v1779   1965.0    127.0  15.472441  unkn\n",
       "400200  p4548  v5721   1170.0    133.0   8.796992  unkn\n",
       "400201  p4548  v5721   1115.0    125.0   8.920000  unkn\n",
       "400202  p4548  v1779   1105.0    111.0   9.954955  unkn\n",
       "400203  p4548  v1779   2450.0    243.0  10.082305  unkn\n",
       "\n",
       "[400204 rows x 6 columns]"
      ]
     },
     "execution_count": 31,
     "metadata": {},
     "output_type": "execute_result"
    }
   ],
   "source": [
    "##create new dataset\n",
    "uprice = sales_df['Val'] / sales_df['Quant']\n",
    "prod = sales_df['Prod']\n",
    "salesman = sales_df['ID']\n",
    "value = sales_df['Val']\n",
    "quantity = sales_df['Quant']\n",
    "Insp = sales_df['Insp']\n",
    "\n",
    "del(new_df)\n",
    "new_df = pd.DataFrame(list(zip(prod,salesman,value,quantity,uprice,Insp)),columns = ['Prod','ID','Val','Quant','Uprice','Insp'])\n",
    "new_df"
   ]
  },
  {
   "cell_type": "code",
   "execution_count": 32,
   "metadata": {
    "ExecuteTime": {
     "end_time": "2021-10-27T16:37:29.830551Z",
     "start_time": "2021-10-27T16:37:29.594081Z"
    }
   },
   "outputs": [],
   "source": [
    "new_df.groupby('Prod')\n",
    "n = new_df.groupby('Prod')['Uprice'].apply(list)"
   ]
  },
  {
   "cell_type": "code",
   "execution_count": null,
   "metadata": {},
   "outputs": [],
   "source": [
    "## calculate local outlier factors\n",
    "for i in range (0,n.shape[0]):\n",
    "    clf = LocalOutlierFactor(n_neighbors=2)\n",
    "    p = pd.DataFrame(list(zip(n[i])),columns=['Single Prod Uprices'])\n",
    "    p['Single Prod Uprices'].values\n",
    "    if(p.shape[0] > 3):\n",
    "        ypred = clf.fit_predict(p)\n",
    "    else:\n",
    "        ypred = [1] * p.shape[0] ##normal  \n",
    "    \n",
    "    outFactor = np.concatenate((outFactor,ypred))\n",
    "\n",
    "print(outFactor.shape[0])"
   ]
  },
  {
   "cell_type": "code",
   "execution_count": null,
   "metadata": {},
   "outputs": [],
   "source": []
  },
  {
   "cell_type": "code",
   "execution_count": null,
   "metadata": {},
   "outputs": [],
   "source": []
  },
  {
   "cell_type": "code",
   "execution_count": null,
   "metadata": {},
   "outputs": [],
   "source": []
  },
  {
   "cell_type": "code",
   "execution_count": null,
   "metadata": {},
   "outputs": [],
   "source": []
  },
  {
   "cell_type": "code",
   "execution_count": null,
   "metadata": {},
   "outputs": [],
   "source": []
  },
  {
   "cell_type": "code",
   "execution_count": null,
   "metadata": {},
   "outputs": [],
   "source": []
  },
  {
   "cell_type": "code",
   "execution_count": null,
   "metadata": {},
   "outputs": [],
   "source": []
  },
  {
   "cell_type": "code",
   "execution_count": null,
   "metadata": {},
   "outputs": [],
   "source": []
  },
  {
   "cell_type": "code",
   "execution_count": null,
   "metadata": {},
   "outputs": [],
   "source": []
  },
  {
   "cell_type": "code",
   "execution_count": null,
   "metadata": {},
   "outputs": [],
   "source": []
  },
  {
   "cell_type": "code",
   "execution_count": null,
   "metadata": {},
   "outputs": [],
   "source": []
  },
  {
   "cell_type": "code",
   "execution_count": null,
   "metadata": {},
   "outputs": [],
   "source": []
  },
  {
   "cell_type": "code",
   "execution_count": null,
   "metadata": {},
   "outputs": [],
   "source": []
  }
 ],
 "metadata": {
  "kernelspec": {
   "display_name": "Python 3",
   "language": "python",
   "name": "python3"
  },
  "language_info": {
   "codemirror_mode": {
    "name": "ipython",
    "version": 3
   },
   "file_extension": ".py",
   "mimetype": "text/x-python",
   "name": "python",
   "nbconvert_exporter": "python",
   "pygments_lexer": "ipython3",
   "version": "3.8.5"
  },
  "latex_envs": {
   "LaTeX_envs_menu_present": true,
   "autoclose": false,
   "autocomplete": true,
   "bibliofile": "biblio.bib",
   "cite_by": "apalike",
   "current_citInitial": 1,
   "eqLabelWithNumbers": true,
   "eqNumInitial": 1,
   "hotkeys": {
    "equation": "Ctrl-E",
    "itemize": "Ctrl-I"
   },
   "labels_anchors": false,
   "latex_user_defs": false,
   "report_style_numbering": false,
   "user_envs_cfg": false
  },
  "toc": {
   "base_numbering": 1,
   "nav_menu": {},
   "number_sections": true,
   "sideBar": true,
   "skip_h1_title": false,
   "title_cell": "Table of Contents",
   "title_sidebar": "Contents",
   "toc_cell": false,
   "toc_position": {},
   "toc_section_display": true,
   "toc_window_display": false
  },
  "varInspector": {
   "cols": {
    "lenName": 16,
    "lenType": 16,
    "lenVar": 40
   },
   "kernels_config": {
    "python": {
     "delete_cmd_postfix": "",
     "delete_cmd_prefix": "del ",
     "library": "var_list.py",
     "varRefreshCmd": "print(var_dic_list())"
    },
    "r": {
     "delete_cmd_postfix": ") ",
     "delete_cmd_prefix": "rm(",
     "library": "var_list.r",
     "varRefreshCmd": "cat(var_dic_list()) "
    }
   },
   "types_to_exclude": [
    "module",
    "function",
    "builtin_function_or_method",
    "instance",
    "_Feature"
   ],
   "window_display": false
  }
 },
 "nbformat": 4,
 "nbformat_minor": 4
}
